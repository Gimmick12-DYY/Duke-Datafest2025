{
 "cells": [
  {
   "cell_type": "code",
   "execution_count": 10,
   "metadata": {},
   "outputs": [],
   "source": [
    "import pandas as pd\n",
    "import numpy as np\n",
    "import sklearn\n",
    "import matplotlib.pyplot as plt\n",
    "import os\n"
   ]
  },
  {
   "cell_type": "code",
   "execution_count": 12,
   "metadata": {},
   "outputs": [
    {
     "name": "stdout",
     "output_type": "stream",
     "text": [
      "<class 'pandas.core.frame.DataFrame'>\n",
      "RangeIndex: 194685 entries, 0 to 194684\n",
      "Data columns (total 35 columns):\n",
      " #   Column                          Non-Null Count   Dtype  \n",
      "---  ------                          --------------   -----  \n",
      " 0   year                            194685 non-null  int64  \n",
      " 1   quarter                         194685 non-null  object \n",
      " 2   monthsigned                     193822 non-null  float64\n",
      " 3   market                          194685 non-null  object \n",
      " 4   building_name                   157999 non-null  object \n",
      " 5   building_id                     194685 non-null  object \n",
      " 6   address                         194685 non-null  object \n",
      " 7   region                          194685 non-null  object \n",
      " 8   city                            194685 non-null  object \n",
      " 9   state                           194685 non-null  object \n",
      " 10  zip                             194684 non-null  float64\n",
      " 11  internal_submarket              194685 non-null  object \n",
      " 12  internal_class                  194676 non-null  object \n",
      " 13  leasedSF                        194685 non-null  float64\n",
      " 14  company_name                    37216 non-null   object \n",
      " 15  internal_industry               26401 non-null   object \n",
      " 16  transaction_type                194146 non-null  object \n",
      " 17  internal_market_cluster         75838 non-null   object \n",
      " 18  costarID                        194685 non-null  int64  \n",
      " 19  space_type                      187140 non-null  object \n",
      " 20  CBD_suburban                    194685 non-null  object \n",
      " 21  RBA                             145541 non-null  float64\n",
      " 22  available_space                 145541 non-null  float64\n",
      " 23  availability_proportion         145541 non-null  float64\n",
      " 24  internal_class_rent             145541 non-null  float64\n",
      " 25  overall_rent                    145541 non-null  float64\n",
      " 26  direct_available_space          121674 non-null  float64\n",
      " 27  direct_availability_proportion  121674 non-null  float64\n",
      " 28  direct_internal_class_rent      121674 non-null  float64\n",
      " 29  direct_overall_rent             121674 non-null  float64\n",
      " 30  sublet_available_space          121674 non-null  float64\n",
      " 31  sublet_availability_proportion  121674 non-null  float64\n",
      " 32  sublet_internal_class_rent      121674 non-null  float64\n",
      " 33  sublet_overall_rent             121674 non-null  float64\n",
      " 34  leasing                         145541 non-null  float64\n",
      "dtypes: float64(17), int64(2), object(16)\n",
      "memory usage: 52.0+ MB\n",
      "None\n"
     ]
    }
   ],
   "source": [
    "Leases = pd.read_csv('datafest-data-read-only/Leases.csv')\n",
    "Leases.describe()\n",
    "print(Leases.info())"
   ]
  },
  {
   "cell_type": "code",
   "execution_count": null,
   "metadata": {},
   "outputs": [],
   "source": []
  }
 ],
 "metadata": {
  "kernelspec": {
   "display_name": "Python 3 (ipykernel)",
   "language": "python",
   "name": "python3"
  },
  "language_info": {
   "codemirror_mode": {
    "name": "ipython",
    "version": 3
   },
   "file_extension": ".py",
   "mimetype": "text/x-python",
   "name": "python",
   "nbconvert_exporter": "python",
   "pygments_lexer": "ipython3",
   "version": "3.10.13"
  }
 },
 "nbformat": 4,
 "nbformat_minor": 2
}
