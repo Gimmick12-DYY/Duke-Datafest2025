{
 "cells": [
  {
   "cell_type": "code",
<<<<<<< HEAD
   "execution_count": null,
=======
   "execution_count": 4,
>>>>>>> 1f414e13161ab5fb543d0f76bcf08a973dde22ee
   "metadata": {},
   "outputs": [],
   "source": [
    "import pandas as pd\n",
    "import numpy as np\n",
    "import sklearn\n",
    "import matplotlib.pyplot as plt\n",
    "import os\n",
    "import seaborn as sns"
   ]
  },
  {
   "cell_type": "code",
   "execution_count": 7,
   "metadata": {},
   "outputs": [
    {
     "name": "stdout",
     "output_type": "stream",
     "text": [
      "<class 'pandas.core.frame.DataFrame'>\n",
      "RangeIndex: 194685 entries, 0 to 194684\n",
      "Data columns (total 35 columns):\n",
      " #   Column                          Non-Null Count   Dtype  \n",
      "---  ------                          --------------   -----  \n",
      " 0   year                            194685 non-null  int64  \n",
      " 1   quarter                         194685 non-null  object \n",
      " 2   monthsigned                     193822 non-null  float64\n",
      " 3   market                          194685 non-null  object \n",
      " 4   building_name                   157999 non-null  object \n",
      " 5   building_id                     194685 non-null  object \n",
      " 6   address                         194685 non-null  object \n",
      " 7   region                          194685 non-null  object \n",
      " 8   city                            194685 non-null  object \n",
      " 9   state                           194685 non-null  object \n",
      " 10  zip                             194684 non-null  float64\n",
      " 11  internal_submarket              194685 non-null  object \n",
      " 12  internal_class                  194676 non-null  object \n",
      " 13  leasedSF                        194685 non-null  float64\n",
      " 14  company_name                    37216 non-null   object \n",
      " 15  internal_industry               26401 non-null   object \n",
      " 16  transaction_type                194146 non-null  object \n",
      " 17  internal_market_cluster         75838 non-null   object \n",
      " 18  costarID                        194685 non-null  int64  \n",
      " 19  space_type                      187140 non-null  object \n",
      " 20  CBD_suburban                    194685 non-null  object \n",
      " 21  RBA                             145541 non-null  float64\n",
      " 22  available_space                 145541 non-null  float64\n",
      " 23  availability_proportion         145541 non-null  float64\n",
      " 24  internal_class_rent             145541 non-null  float64\n",
      " 25  overall_rent                    145541 non-null  float64\n",
      " 26  direct_available_space          121674 non-null  float64\n",
      " 27  direct_availability_proportion  121674 non-null  float64\n",
      " 28  direct_internal_class_rent      121674 non-null  float64\n",
      " 29  direct_overall_rent             121674 non-null  float64\n",
      " 30  sublet_available_space          121674 non-null  float64\n",
      " 31  sublet_availability_proportion  121674 non-null  float64\n",
      " 32  sublet_internal_class_rent      121674 non-null  float64\n",
      " 33  sublet_overall_rent             121674 non-null  float64\n",
      " 34  leasing                         145541 non-null  float64\n",
      "dtypes: float64(17), int64(2), object(16)\n",
      "memory usage: 52.0+ MB\n",
      "None\n"
     ]
    }
   ],
   "source": [
    "leases = pd.read_csv('datafest-data-read-only/Leases.csv')\n",
    "print(leases.info())"
   ]
  },
  {
   "cell_type": "code",
   "execution_count": 8,
   "metadata": {},
   "outputs": [
    {
     "name": "stdout",
     "output_type": "stream",
     "text": [
      "<class 'pandas.core.frame.DataFrame'>\n",
      "RangeIndex: 1680 entries, 0 to 1679\n",
      "Data columns (total 18 columns):\n",
      " #   Column                          Non-Null Count  Dtype  \n",
      "---  ------                          --------------  -----  \n",
      " 0   year                            1680 non-null   int64  \n",
      " 1   quarter                         1680 non-null   object \n",
      " 2   market                          1680 non-null   object \n",
      " 3   internal_class                  1680 non-null   object \n",
      " 4   RBA                             1680 non-null   int64  \n",
      " 5   available_space                 1680 non-null   int64  \n",
      " 6   availability_proportion         1680 non-null   float64\n",
      " 7   internal_class_rent             1680 non-null   float64\n",
      " 8   overall_rent                    1680 non-null   float64\n",
      " 9   direct_available_space          1380 non-null   float64\n",
      " 10  direct_availability_proportion  1380 non-null   float64\n",
      " 11  direct_internal_class_rent      1380 non-null   float64\n",
      " 12  direct_overall_rent             1380 non-null   float64\n",
      " 13  sublet_available_space          1380 non-null   float64\n",
      " 14  sublet_availability_proportion  1380 non-null   float64\n",
      " 15  sublet_internal_class_rent      1380 non-null   float64\n",
      " 16  sublet_overall_rent             1380 non-null   float64\n",
      " 17  leasing                         1680 non-null   int64  \n",
      "dtypes: float64(11), int64(4), object(3)\n",
      "memory usage: 236.4+ KB\n",
      "None\n"
     ]
    }
   ],
   "source": [
    "priceANDavailability = pd.read_csv('datafest-data-read-only/Price_and_Availability_Data.csv')\n",
    "print(priceANDavailability.info())"
   ]
  },
  {
   "cell_type": "code",
   "execution_count": 9,
   "metadata": {},
   "outputs": [
    {
     "name": "stdout",
     "output_type": "stream",
     "text": [
      "<class 'pandas.core.frame.DataFrame'>\n",
      "RangeIndex: 190 entries, 0 to 189\n",
      "Data columns (total 6 columns):\n",
      " #   Column                         Non-Null Count  Dtype  \n",
      "---  ------                         --------------  -----  \n",
      " 0   year                           190 non-null    int64  \n",
      " 1   quarter                        190 non-null    object \n",
      " 2   market                         190 non-null    object \n",
      " 3   ending_occupancy_proportion    190 non-null    float64\n",
      " 4   starting_occupancy_proportion  190 non-null    float64\n",
      " 5   avg_occupancy_proportion       190 non-null    float64\n",
      "dtypes: float64(3), int64(1), object(2)\n",
      "memory usage: 9.0+ KB\n",
      "None\n"
     ]
    }
   ],
   "source": [
    "majorMarket = pd.read_csv('datafest-data-read-only/Major_Market_Occupancy_Data-revised.csv')\n",
    "print(majorMarket.info())"
   ]
  },
  {
   "cell_type": "code",
   "execution_count": 10,
   "metadata": {},
   "outputs": [
    {
     "name": "stdout",
     "output_type": "stream",
     "text": [
      "              year        month  unemployment_rate\n",
      "count  1848.000000  1848.000000        1848.000000\n",
      "mean   2021.000000     6.500000           4.515368\n",
      "std       2.000541     3.452987           2.214930\n",
      "min    2018.000000     1.000000           1.800000\n",
      "25%    2019.000000     3.750000           3.300000\n",
      "50%    2021.000000     6.500000           4.000000\n",
      "75%    2023.000000     9.250000           4.800000\n",
      "max    2024.000000    12.000000          22.600000\n",
      "<class 'pandas.core.frame.DataFrame'>\n",
      "RangeIndex: 1848 entries, 0 to 1847\n",
      "Data columns (total 5 columns):\n",
      " #   Column             Non-Null Count  Dtype  \n",
      "---  ------             --------------  -----  \n",
      " 0   year               1848 non-null   int64  \n",
      " 1   quarter            1848 non-null   object \n",
      " 2   month              1848 non-null   int64  \n",
      " 3   state              1848 non-null   object \n",
      " 4   unemployment_rate  1848 non-null   float64\n",
      "dtypes: float64(1), int64(2), object(2)\n",
      "memory usage: 72.3+ KB\n",
      "None\n"
     ]
    }
   ],
   "source": [
    "unemployment = pd.read_csv('datafest-data-read-only/Unemployment.csv')\n",
    "print(unemployment.describe())\n",
    "print(unemployment.info())"
   ]
  },
  {
   "cell_type": "code",
   "execution_count": 11,
   "metadata": {},
   "outputs": [
    {
     "name": "stdout",
     "output_type": "stream",
     "text": [
      "Main without major markets Dataset Infomation\n",
      "<class 'pandas.core.frame.DataFrame'>\n",
      "RangeIndex: 291088 entries, 0 to 291087\n",
      "Data columns (total 50 columns):\n",
      " #   Column                            Non-Null Count   Dtype  \n",
      "---  ------                            --------------   -----  \n",
      " 0   year                              291088 non-null  int64  \n",
      " 1   quarter                           291088 non-null  object \n",
      " 2   monthsigned                       289722 non-null  float64\n",
      " 3   market                            291088 non-null  object \n",
      " 4   building_name                     237882 non-null  object \n",
      " 5   building_id                       291088 non-null  object \n",
      " 6   address                           291088 non-null  object \n",
      " 7   region                            291088 non-null  object \n",
      " 8   city                              291088 non-null  object \n",
      " 9   state                             291088 non-null  object \n",
      " 10  zip                               291086 non-null  float64\n",
      " 11  internal_submarket                291088 non-null  object \n",
      " 12  internal_class_x                  291082 non-null  object \n",
      " 13  leasedSF                          291088 non-null  float64\n",
      " 14  company_name                      55874 non-null   object \n",
      " 15  internal_industry                 41176 non-null   object \n",
      " 16  transaction_type                  290340 non-null  object \n",
      " 17  internal_market_cluster           144868 non-null  object \n",
      " 18  costarID                          291088 non-null  int64  \n",
      " 19  space_type                        277524 non-null  object \n",
      " 20  CBD_suburban                      291088 non-null  object \n",
      " 21  RBA_x                             291082 non-null  float64\n",
      " 22  available_space_x                 291082 non-null  float64\n",
      " 23  availability_proportion_x         291082 non-null  float64\n",
      " 24  internal_class_rent_x             291082 non-null  float64\n",
      " 25  overall_rent_x                    291082 non-null  float64\n",
      " 26  direct_available_space_x          243348 non-null  float64\n",
      " 27  direct_availability_proportion_x  243348 non-null  float64\n",
      " 28  direct_internal_class_rent_x      243348 non-null  float64\n",
      " 29  direct_overall_rent_x             243348 non-null  float64\n",
      " 30  sublet_available_space_x          243348 non-null  float64\n",
      " 31  sublet_availability_proportion_x  243348 non-null  float64\n",
      " 32  sublet_internal_class_rent_x      243348 non-null  float64\n",
      " 33  sublet_overall_rent_x             243348 non-null  float64\n",
      " 34  leasing_x                         291082 non-null  float64\n",
      " 35  internal_class_y                  291088 non-null  object \n",
      " 36  RBA_y                             291088 non-null  int64  \n",
      " 37  available_space_y                 291088 non-null  int64  \n",
      " 38  availability_proportion_y         291088 non-null  float64\n",
      " 39  internal_class_rent_y             291088 non-null  float64\n",
      " 40  overall_rent_y                    291088 non-null  float64\n",
      " 41  direct_available_space_y          243354 non-null  float64\n",
      " 42  direct_availability_proportion_y  243354 non-null  float64\n",
      " 43  direct_internal_class_rent_y      243354 non-null  float64\n",
      " 44  direct_overall_rent_y             243354 non-null  float64\n",
      " 45  sublet_available_space_y          243354 non-null  float64\n",
      " 46  sublet_availability_proportion_y  243354 non-null  float64\n",
      " 47  sublet_internal_class_rent_y      243354 non-null  float64\n",
      " 48  sublet_overall_rent_y             243354 non-null  float64\n",
      " 49  leasing_y                         291088 non-null  int64  \n",
      "dtypes: float64(28), int64(5), object(17)\n",
      "memory usage: 111.0+ MB\n",
      "None\n",
      "\n",
      "\n",
      "Main with major markets Dataset Infomation\n",
      "<class 'pandas.core.frame.DataFrame'>\n",
      "RangeIndex: 75562 entries, 0 to 75561\n",
      "Data columns (total 53 columns):\n",
      " #   Column                            Non-Null Count  Dtype  \n",
      "---  ------                            --------------  -----  \n",
      " 0   year                              75562 non-null  int64  \n",
      " 1   quarter                           75562 non-null  object \n",
      " 2   monthsigned                       75334 non-null  float64\n",
      " 3   market                            75562 non-null  object \n",
      " 4   building_name                     60794 non-null  object \n",
      " 5   building_id                       75562 non-null  object \n",
      " 6   address                           75562 non-null  object \n",
      " 7   region                            75562 non-null  object \n",
      " 8   city                              75562 non-null  object \n",
      " 9   state                             75562 non-null  object \n",
      " 10  zip                               75562 non-null  float64\n",
      " 11  internal_submarket                75562 non-null  object \n",
      " 12  internal_class_x                  75560 non-null  object \n",
      " 13  leasedSF                          75562 non-null  float64\n",
      " 14  company_name                      13950 non-null  object \n",
      " 15  internal_industry                 11408 non-null  object \n",
      " 16  transaction_type                  75362 non-null  object \n",
      " 17  internal_market_cluster           37888 non-null  object \n",
      " 18  costarID                          75562 non-null  int64  \n",
      " 19  space_type                        73808 non-null  object \n",
      " 20  CBD_suburban                      75562 non-null  object \n",
      " 21  RBA_x                             75560 non-null  float64\n",
      " 22  available_space_x                 75560 non-null  float64\n",
      " 23  availability_proportion_x         75560 non-null  float64\n",
      " 24  internal_class_rent_x             75560 non-null  float64\n",
      " 25  overall_rent_x                    75560 non-null  float64\n",
      " 26  direct_available_space_x          75560 non-null  float64\n",
      " 27  direct_availability_proportion_x  75560 non-null  float64\n",
      " 28  direct_internal_class_rent_x      75560 non-null  float64\n",
      " 29  direct_overall_rent_x             75560 non-null  float64\n",
      " 30  sublet_available_space_x          75560 non-null  float64\n",
      " 31  sublet_availability_proportion_x  75560 non-null  float64\n",
      " 32  sublet_internal_class_rent_x      75560 non-null  float64\n",
      " 33  sublet_overall_rent_x             75560 non-null  float64\n",
      " 34  leasing_x                         75560 non-null  float64\n",
      " 35  internal_class_y                  75562 non-null  object \n",
      " 36  RBA_y                             75562 non-null  int64  \n",
      " 37  available_space_y                 75562 non-null  int64  \n",
      " 38  availability_proportion_y         75562 non-null  float64\n",
      " 39  internal_class_rent_y             75562 non-null  float64\n",
      " 40  overall_rent_y                    75562 non-null  float64\n",
      " 41  direct_available_space_y          75562 non-null  float64\n",
      " 42  direct_availability_proportion_y  75562 non-null  float64\n",
      " 43  direct_internal_class_rent_y      75562 non-null  float64\n",
      " 44  direct_overall_rent_y             75562 non-null  float64\n",
      " 45  sublet_available_space_y          75562 non-null  float64\n",
      " 46  sublet_availability_proportion_y  75562 non-null  float64\n",
      " 47  sublet_internal_class_rent_y      75562 non-null  float64\n",
      " 48  sublet_overall_rent_y             75562 non-null  float64\n",
      " 49  leasing_y                         75562 non-null  int64  \n",
      " 50  ending_occupancy_proportion       75562 non-null  float64\n",
      " 51  starting_occupancy_proportion     75562 non-null  float64\n",
      " 52  avg_occupancy_proportion          75562 non-null  float64\n",
      "dtypes: float64(31), int64(5), object(17)\n",
      "memory usage: 30.6+ MB\n",
      "None\n"
     ]
    }
   ],
   "source": [
    "main_without_majorMarketInfo2018 = pd.merge(leases, priceANDavailability, on=['year', 'quarter', 'market'], how='inner')\n",
    "\n",
    "main_with_majorMarketInfo2020 = pd.merge(main_without_majorMarketInfo2018, majorMarket, on=['year', 'quarter', 'market'], how='inner')\n",
    "#Sample size significantly decrease as majorMarket dataset only contains data after 2020, we lost three years of data.\n",
    "\n",
    "print(\"Main without major markets Dataset Infomation\")\n",
    "print(main_without_majorMarketInfo2018.info())\n",
    "print(\"\")\n",
    "print(\"\")\n",
    "print(\"Main with major markets Dataset Infomation\")\n",
    "print(main_with_majorMarketInfo2020.info())"
   ]
  },
  {
   "cell_type": "code",
   "execution_count": 12,
   "metadata": {},
   "outputs": [
    {
     "name": "stdout",
     "output_type": "stream",
     "text": [
      "<class 'pandas.core.frame.DataFrame'>\n",
      "RangeIndex: 291088 entries, 0 to 291087\n",
      "Data columns (total 44 columns):\n",
      " #   Column                            Non-Null Count   Dtype  \n",
      "---  ------                            --------------   -----  \n",
      " 0   year                              291088 non-null  int64  \n",
      " 1   quarter                           291088 non-null  object \n",
      " 2   monthsigned                       289722 non-null  float64\n",
      " 3   market                            291088 non-null  object \n",
      " 4   region                            291088 non-null  object \n",
      " 5   city                              291088 non-null  object \n",
      " 6   state                             291088 non-null  object \n",
      " 7   internal_submarket                291088 non-null  object \n",
      " 8   internal_class_x                  291082 non-null  object \n",
      " 9   leasedSF                          291088 non-null  float64\n",
      " 10  internal_industry                 41176 non-null   object \n",
      " 11  transaction_type                  290340 non-null  object \n",
      " 12  costarID                          291088 non-null  int64  \n",
      " 13  space_type                        277524 non-null  object \n",
      " 14  CBD_suburban                      291088 non-null  object \n",
      " 15  RBA_x                             291082 non-null  float64\n",
      " 16  available_space_x                 291082 non-null  float64\n",
      " 17  availability_proportion_x         291082 non-null  float64\n",
      " 18  internal_class_rent_x             291082 non-null  float64\n",
      " 19  overall_rent_x                    291082 non-null  float64\n",
      " 20  direct_available_space_x          243348 non-null  float64\n",
      " 21  direct_availability_proportion_x  243348 non-null  float64\n",
      " 22  direct_internal_class_rent_x      243348 non-null  float64\n",
      " 23  direct_overall_rent_x             243348 non-null  float64\n",
      " 24  sublet_available_space_x          243348 non-null  float64\n",
      " 25  sublet_availability_proportion_x  243348 non-null  float64\n",
      " 26  sublet_internal_class_rent_x      243348 non-null  float64\n",
      " 27  sublet_overall_rent_x             243348 non-null  float64\n",
      " 28  leasing_x                         291082 non-null  float64\n",
      " 29  internal_class_y                  291088 non-null  object \n",
      " 30  RBA_y                             291088 non-null  int64  \n",
      " 31  available_space_y                 291088 non-null  int64  \n",
      " 32  availability_proportion_y         291088 non-null  float64\n",
      " 33  internal_class_rent_y             291088 non-null  float64\n",
      " 34  overall_rent_y                    291088 non-null  float64\n",
      " 35  direct_available_space_y          243354 non-null  float64\n",
      " 36  direct_availability_proportion_y  243354 non-null  float64\n",
      " 37  direct_internal_class_rent_y      243354 non-null  float64\n",
      " 38  direct_overall_rent_y             243354 non-null  float64\n",
      " 39  sublet_available_space_y          243354 non-null  float64\n",
      " 40  sublet_availability_proportion_y  243354 non-null  float64\n",
      " 41  sublet_internal_class_rent_y      243354 non-null  float64\n",
      " 42  sublet_overall_rent_y             243354 non-null  float64\n",
      " 43  leasing_y                         291088 non-null  int64  \n",
      "dtypes: float64(27), int64(5), object(12)\n",
      "memory usage: 97.7+ MB\n"
     ]
    }
   ],
   "source": [
    "columns_to_drop = [\n",
    "    \"building_name\", \"building_id\", \"address\", \"zip\", \n",
    "    \"direct_available_space\", \"direct_availability_proportion\", \n",
    "    \"direct_internal_class_rent\", \"direct_overall_rent\", \n",
    "    \"sublet_available_space\", \"sublet_availability_proportion\", \n",
    "    \"sublet_internal_class_rent\", \"sublet_overall_rent\", \"company_name\", \"internal_market_cluster\"\n",
    "    \n",
    "]\n",
    "\n",
    "# Keep only columns that are present\n",
    "existing_cols = [col for col in columns_to_drop if col in main_without_majorMarketInfo2018.columns]\n",
    "\n",
    "# Drop safely\n",
    "main_without_majorMarketInfo2018_drop = main_without_majorMarketInfo2018.drop(existing_cols, axis=1)\n",
    "main_without_majorMarketInfo2018_drop.info()"
   ]
  },
  {
   "cell_type": "code",
   "execution_count": 13,
   "metadata": {},
   "outputs": [
    {
     "name": "stdout",
     "output_type": "stream",
     "text": [
      "<class 'pandas.core.frame.DataFrame'>\n",
      "Index: 232956 entries, 11282 to 291083\n",
      "Data columns (total 43 columns):\n",
      " #   Column                            Non-Null Count   Dtype  \n",
      "---  ------                            --------------   -----  \n",
      " 0   year                              232956 non-null  int64  \n",
      " 1   quarter                           232956 non-null  object \n",
      " 2   monthsigned                       232956 non-null  float64\n",
      " 3   market                            232956 non-null  object \n",
      " 4   region                            232956 non-null  object \n",
      " 5   city                              232956 non-null  object \n",
      " 6   state                             232956 non-null  object \n",
      " 7   internal_submarket                232956 non-null  object \n",
      " 8   internal_class_x                  232956 non-null  object \n",
      " 9   leasedSF                          232956 non-null  float64\n",
      " 10  transaction_type                  232956 non-null  object \n",
      " 11  costarID                          232956 non-null  int64  \n",
      " 12  space_type                        232956 non-null  object \n",
      " 13  CBD_suburban                      232956 non-null  object \n",
      " 14  RBA_x                             232956 non-null  float64\n",
      " 15  available_space_x                 232956 non-null  float64\n",
      " 16  availability_proportion_x         232956 non-null  float64\n",
      " 17  internal_class_rent_x             232956 non-null  float64\n",
      " 18  overall_rent_x                    232956 non-null  float64\n",
      " 19  direct_available_space_x          232956 non-null  float64\n",
      " 20  direct_availability_proportion_x  232956 non-null  float64\n",
      " 21  direct_internal_class_rent_x      232956 non-null  float64\n",
      " 22  direct_overall_rent_x             232956 non-null  float64\n",
      " 23  sublet_available_space_x          232956 non-null  float64\n",
      " 24  sublet_availability_proportion_x  232956 non-null  float64\n",
      " 25  sublet_internal_class_rent_x      232956 non-null  float64\n",
      " 26  sublet_overall_rent_x             232956 non-null  float64\n",
      " 27  leasing_x                         232956 non-null  float64\n",
      " 28  internal_class_y                  232956 non-null  object \n",
      " 29  RBA_y                             232956 non-null  int64  \n",
      " 30  available_space_y                 232956 non-null  int64  \n",
      " 31  availability_proportion_y         232956 non-null  float64\n",
      " 32  internal_class_rent_y             232956 non-null  float64\n",
      " 33  overall_rent_y                    232956 non-null  float64\n",
      " 34  direct_available_space_y          232956 non-null  float64\n",
      " 35  direct_availability_proportion_y  232956 non-null  float64\n",
      " 36  direct_internal_class_rent_y      232956 non-null  float64\n",
      " 37  direct_overall_rent_y             232956 non-null  float64\n",
      " 38  sublet_available_space_y          232956 non-null  float64\n",
      " 39  sublet_availability_proportion_y  232956 non-null  float64\n",
      " 40  sublet_internal_class_rent_y      232956 non-null  float64\n",
      " 41  sublet_overall_rent_y             232956 non-null  float64\n",
      " 42  leasing_y                         232956 non-null  int64  \n",
      "dtypes: float64(27), int64(5), object(11)\n",
      "memory usage: 78.2+ MB\n"
     ]
    }
   ],
   "source": [
    "main_without_majorMarketInfo2018_drop.drop(columns = \"internal_industry\").dropna().info()"
   ]
  },
  {
   "cell_type": "code",
   "execution_count": 14,
   "metadata": {},
   "outputs": [
    {
     "name": "stdout",
     "output_type": "stream",
     "text": [
      "Number of differing values of internal_class_x: 145547\n"
     ]
    }
   ],
   "source": [
    "x = 'internal_class_x'\n",
    "y = 'internal_class_y'\n",
    "diff_count = (main_without_majorMarketInfo2018_drop[x] != main_without_majorMarketInfo2018_drop[y]).sum()\n",
    "print(f\"Number of differing values of {x}: {diff_count}\")\n"
   ]
  },
  {
   "cell_type": "code",
   "execution_count": 15,
   "metadata": {},
   "outputs": [],
   "source": [
    "cols_to_drop = [col for col in main_without_majorMarketInfo2018_drop.columns if col.endswith('_y')]\n",
    "main_without_majorMarketInfo2018_drop.drop(columns=cols_to_drop, inplace=True)\n"
   ]
  },
  {
   "cell_type": "code",
   "execution_count": 16,
   "metadata": {},
   "outputs": [
    {
     "name": "stdout",
     "output_type": "stream",
     "text": [
      "<class 'pandas.core.frame.DataFrame'>\n",
      "RangeIndex: 291088 entries, 0 to 291087\n",
      "Data columns (total 29 columns):\n",
      " #   Column                          Non-Null Count   Dtype  \n",
      "---  ------                          --------------   -----  \n",
      " 0   year                            291088 non-null  int64  \n",
      " 1   quarter                         291088 non-null  object \n",
      " 2   monthsigned                     289722 non-null  float64\n",
      " 3   market                          291088 non-null  object \n",
      " 4   region                          291088 non-null  object \n",
      " 5   city                            291088 non-null  object \n",
      " 6   state                           291088 non-null  object \n",
      " 7   internal_submarket              291088 non-null  object \n",
      " 8   internal_class                  291082 non-null  object \n",
      " 9   leasedSF                        291088 non-null  float64\n",
      " 10  internal_industry               41176 non-null   object \n",
      " 11  transaction_type                290340 non-null  object \n",
      " 12  costarID                        291088 non-null  int64  \n",
      " 13  space_type                      277524 non-null  object \n",
      " 14  CBD_suburban                    291088 non-null  object \n",
      " 15  RBA                             291082 non-null  float64\n",
      " 16  available_space                 291082 non-null  float64\n",
      " 17  availability_proportion         291082 non-null  float64\n",
      " 18  internal_class_rent             291082 non-null  float64\n",
      " 19  overall_rent                    291082 non-null  float64\n",
      " 20  direct_available_space          243348 non-null  float64\n",
      " 21  direct_availability_proportion  243348 non-null  float64\n",
      " 22  direct_internal_class_rent      243348 non-null  float64\n",
      " 23  direct_overall_rent             243348 non-null  float64\n",
      " 24  sublet_available_space          243348 non-null  float64\n",
      " 25  sublet_availability_proportion  243348 non-null  float64\n",
      " 26  sublet_internal_class_rent      243348 non-null  float64\n",
      " 27  sublet_overall_rent             243348 non-null  float64\n",
      " 28  leasing                         291082 non-null  float64\n",
      "dtypes: float64(16), int64(2), object(11)\n",
      "memory usage: 64.4+ MB\n"
     ]
    }
   ],
   "source": [
    "main_without_majorMarketInfo2018_drop.rename(\n",
    "    columns={col: col[:-2] for col in main_without_majorMarketInfo2018.columns if col.endswith('_x')},\n",
    "    inplace=True\n",
    ")\n",
    "main_without_majorMarketInfo2018_drop.info()"
   ]
  },
  {
   "cell_type": "code",
   "execution_count": 46,
   "metadata": {},
   "outputs": [
    {
     "data": {
      "image/png": "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",
      "text/plain": [
       "<Figure size 1200x600 with 1 Axes>"
      ]
     },
     "metadata": {},
     "output_type": "display_data"
    }
   ],
   "source": [
    "grouped_counts = main_without_majorMarketInfo2018_drop.groupby(['year', 'quarter']).size()\n",
    "\n",
    "# 2. Unstack so that quarters become columns and years remain the index\n",
    "grouped_counts = grouped_counts.unstack('quarter')  \n",
    "# Now, grouped_counts has years on the rows and quarters on the columns\n",
    "\n",
    "# 3. Create a bar plot with years on the x-axis and quarters in different colors\n",
    "ax = grouped_counts.plot(kind='bar', figsize=(12, 6))\n",
    "# 4. Label the axes and add a title\n",
    "ax.set_xlabel('Year')\n",
    "ax.set_ylabel('Number of Transactions')\n",
    "ax.set_title('No. of Transactions by Year and Quarter')\n",
    "\n",
    "# 5. Show the legend and plot\n",
    "plt.legend(title='Quarter', loc = 'lower right')\n",
    "plt.show()"
   ]
  },
  {
   "cell_type": "code",
   "execution_count": null,
   "metadata": {},
   "outputs": [],
   "source": []
  },
  {
   "cell_type": "code",
   "execution_count": null,
   "metadata": {},
   "outputs": [],
   "source": []
  },
  {
   "cell_type": "code",
   "execution_count": null,
   "metadata": {},
   "outputs": [
    {
     "ename": "ValueError",
     "evalue": "could not convert string to float: 'Q1'",
     "output_type": "error",
     "traceback": [
      "\u001b[0;31m---------------------------------------------------------------------------\u001b[0m",
      "\u001b[0;31mValueError\u001b[0m                                Traceback (most recent call last)",
      "Cell \u001b[0;32mIn[89], line 1\u001b[0m\n\u001b[0;32m----> 1\u001b[0m correlation_matrix \u001b[38;5;241m=\u001b[39m \u001b[43mmain_without_majorMarketInfo2018_drop\u001b[49m\u001b[38;5;241;43m.\u001b[39;49m\u001b[43mcorr\u001b[49m\u001b[43m(\u001b[49m\u001b[43m)\u001b[49m\n\u001b[1;32m      2\u001b[0m \u001b[38;5;28mprint\u001b[39m(correlation_matrix)\n",
      "File \u001b[0;32m/opt/conda/lib/python3.10/site-packages/pandas/core/frame.py:11036\u001b[0m, in \u001b[0;36mDataFrame.corr\u001b[0;34m(self, method, min_periods, numeric_only)\u001b[0m\n\u001b[1;32m  11034\u001b[0m cols \u001b[38;5;241m=\u001b[39m data\u001b[38;5;241m.\u001b[39mcolumns\n\u001b[1;32m  11035\u001b[0m idx \u001b[38;5;241m=\u001b[39m cols\u001b[38;5;241m.\u001b[39mcopy()\n\u001b[0;32m> 11036\u001b[0m mat \u001b[38;5;241m=\u001b[39m \u001b[43mdata\u001b[49m\u001b[38;5;241;43m.\u001b[39;49m\u001b[43mto_numpy\u001b[49m\u001b[43m(\u001b[49m\u001b[43mdtype\u001b[49m\u001b[38;5;241;43m=\u001b[39;49m\u001b[38;5;28;43mfloat\u001b[39;49m\u001b[43m,\u001b[49m\u001b[43m \u001b[49m\u001b[43mna_value\u001b[49m\u001b[38;5;241;43m=\u001b[39;49m\u001b[43mnp\u001b[49m\u001b[38;5;241;43m.\u001b[39;49m\u001b[43mnan\u001b[49m\u001b[43m,\u001b[49m\u001b[43m \u001b[49m\u001b[43mcopy\u001b[49m\u001b[38;5;241;43m=\u001b[39;49m\u001b[38;5;28;43;01mFalse\u001b[39;49;00m\u001b[43m)\u001b[49m\n\u001b[1;32m  11038\u001b[0m \u001b[38;5;28;01mif\u001b[39;00m method \u001b[38;5;241m==\u001b[39m \u001b[38;5;124m\"\u001b[39m\u001b[38;5;124mpearson\u001b[39m\u001b[38;5;124m\"\u001b[39m:\n\u001b[1;32m  11039\u001b[0m     correl \u001b[38;5;241m=\u001b[39m libalgos\u001b[38;5;241m.\u001b[39mnancorr(mat, minp\u001b[38;5;241m=\u001b[39mmin_periods)\n",
      "File \u001b[0;32m/opt/conda/lib/python3.10/site-packages/pandas/core/frame.py:1981\u001b[0m, in \u001b[0;36mDataFrame.to_numpy\u001b[0;34m(self, dtype, copy, na_value)\u001b[0m\n\u001b[1;32m   1979\u001b[0m \u001b[38;5;28;01mif\u001b[39;00m dtype \u001b[38;5;129;01mis\u001b[39;00m \u001b[38;5;129;01mnot\u001b[39;00m \u001b[38;5;28;01mNone\u001b[39;00m:\n\u001b[1;32m   1980\u001b[0m     dtype \u001b[38;5;241m=\u001b[39m np\u001b[38;5;241m.\u001b[39mdtype(dtype)\n\u001b[0;32m-> 1981\u001b[0m result \u001b[38;5;241m=\u001b[39m \u001b[38;5;28;43mself\u001b[39;49m\u001b[38;5;241;43m.\u001b[39;49m\u001b[43m_mgr\u001b[49m\u001b[38;5;241;43m.\u001b[39;49m\u001b[43mas_array\u001b[49m\u001b[43m(\u001b[49m\u001b[43mdtype\u001b[49m\u001b[38;5;241;43m=\u001b[39;49m\u001b[43mdtype\u001b[49m\u001b[43m,\u001b[49m\u001b[43m \u001b[49m\u001b[43mcopy\u001b[49m\u001b[38;5;241;43m=\u001b[39;49m\u001b[43mcopy\u001b[49m\u001b[43m,\u001b[49m\u001b[43m \u001b[49m\u001b[43mna_value\u001b[49m\u001b[38;5;241;43m=\u001b[39;49m\u001b[43mna_value\u001b[49m\u001b[43m)\u001b[49m\n\u001b[1;32m   1982\u001b[0m \u001b[38;5;28;01mif\u001b[39;00m result\u001b[38;5;241m.\u001b[39mdtype \u001b[38;5;129;01mis\u001b[39;00m \u001b[38;5;129;01mnot\u001b[39;00m dtype:\n\u001b[1;32m   1983\u001b[0m     result \u001b[38;5;241m=\u001b[39m np\u001b[38;5;241m.\u001b[39marray(result, dtype\u001b[38;5;241m=\u001b[39mdtype, copy\u001b[38;5;241m=\u001b[39m\u001b[38;5;28;01mFalse\u001b[39;00m)\n",
      "File \u001b[0;32m/opt/conda/lib/python3.10/site-packages/pandas/core/internals/managers.py:1692\u001b[0m, in \u001b[0;36mBlockManager.as_array\u001b[0;34m(self, dtype, copy, na_value)\u001b[0m\n\u001b[1;32m   1690\u001b[0m         arr\u001b[38;5;241m.\u001b[39mflags\u001b[38;5;241m.\u001b[39mwriteable \u001b[38;5;241m=\u001b[39m \u001b[38;5;28;01mFalse\u001b[39;00m\n\u001b[1;32m   1691\u001b[0m \u001b[38;5;28;01melse\u001b[39;00m:\n\u001b[0;32m-> 1692\u001b[0m     arr \u001b[38;5;241m=\u001b[39m \u001b[38;5;28;43mself\u001b[39;49m\u001b[38;5;241;43m.\u001b[39;49m\u001b[43m_interleave\u001b[49m\u001b[43m(\u001b[49m\u001b[43mdtype\u001b[49m\u001b[38;5;241;43m=\u001b[39;49m\u001b[43mdtype\u001b[49m\u001b[43m,\u001b[49m\u001b[43m \u001b[49m\u001b[43mna_value\u001b[49m\u001b[38;5;241;43m=\u001b[39;49m\u001b[43mna_value\u001b[49m\u001b[43m)\u001b[49m\n\u001b[1;32m   1693\u001b[0m     \u001b[38;5;66;03m# The underlying data was copied within _interleave, so no need\u001b[39;00m\n\u001b[1;32m   1694\u001b[0m     \u001b[38;5;66;03m# to further copy if copy=True or setting na_value\u001b[39;00m\n\u001b[1;32m   1696\u001b[0m \u001b[38;5;28;01mif\u001b[39;00m na_value \u001b[38;5;129;01mis\u001b[39;00m lib\u001b[38;5;241m.\u001b[39mno_default:\n",
      "File \u001b[0;32m/opt/conda/lib/python3.10/site-packages/pandas/core/internals/managers.py:1751\u001b[0m, in \u001b[0;36mBlockManager._interleave\u001b[0;34m(self, dtype, na_value)\u001b[0m\n\u001b[1;32m   1749\u001b[0m     \u001b[38;5;28;01melse\u001b[39;00m:\n\u001b[1;32m   1750\u001b[0m         arr \u001b[38;5;241m=\u001b[39m blk\u001b[38;5;241m.\u001b[39mget_values(dtype)\n\u001b[0;32m-> 1751\u001b[0m     \u001b[43mresult\u001b[49m\u001b[43m[\u001b[49m\u001b[43mrl\u001b[49m\u001b[38;5;241;43m.\u001b[39;49m\u001b[43mindexer\u001b[49m\u001b[43m]\u001b[49m \u001b[38;5;241m=\u001b[39m arr\n\u001b[1;32m   1752\u001b[0m     itemmask[rl\u001b[38;5;241m.\u001b[39mindexer] \u001b[38;5;241m=\u001b[39m \u001b[38;5;241m1\u001b[39m\n\u001b[1;32m   1754\u001b[0m \u001b[38;5;28;01mif\u001b[39;00m \u001b[38;5;129;01mnot\u001b[39;00m itemmask\u001b[38;5;241m.\u001b[39mall():\n",
      "\u001b[0;31mValueError\u001b[0m: could not convert string to float: 'Q1'"
     ]
    }
   ],
   "source": [
    "\n",
    "\n",
    "plt.figure(figsize=(12, 10))\n",
    "sns.heatmap(\n",
    "    main_without_majorMarketInfo2018_drop.corr(),\n",
    "    annot=True,         # Show correlation coefficients\n",
    "    fmt=\".2f\",          # Format numbers\n",
    "    cmap=\"coolwarm\",    # Color scheme\n",
    "    square=True,\n",
    "    cbar=True\n",
    ")\n",
    "plt.title(\"Correlation Matrix\")\n",
    "plt.tight_layout()\n",
    "plt.show()\n"
   ]
  },
  {
   "cell_type": "code",
   "execution_count": null,
   "metadata": {},
   "outputs": [],
   "source": []
  }
 ],
 "metadata": {
  "kernelspec": {
   "display_name": "Python 3 (ipykernel)",
   "language": "python",
   "name": "python3"
  },
  "language_info": {
   "codemirror_mode": {
    "name": "ipython",
    "version": 3
   },
   "file_extension": ".py",
   "mimetype": "text/x-python",
   "name": "python",
   "nbconvert_exporter": "python",
   "pygments_lexer": "ipython3",
   "version": "3.10.13"
  }
 },
 "nbformat": 4,
 "nbformat_minor": 2
}
