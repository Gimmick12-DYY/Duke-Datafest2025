{
 "cells": [
  {
   "cell_type": "code",
   "execution_count": 464,
   "id": "461d0bf5",
   "metadata": {},
   "outputs": [],
   "source": [
    "import pandas as pd\n",
    "import numpy as np\n",
    "from sklearn.model_selection import train_test_split, GridSearchCV\n",
    "from sklearn.ensemble import RandomForestRegressor\n",
    "from sklearn.metrics import mean_absolute_error, r2_score\n",
    "from sklearn.preprocessing import OneHotEncoder, StandardScaler\n",
    "from sklearn.compose import ColumnTransformer\n",
    "from sklearn.pipeline import Pipeline\n",
    "from sklearn.cluster import KMeans\n",
    "from sklearn.preprocessing import StandardScaler\n",
    "import seaborn as sns\n",
    "import matplotlib.pyplot as plt\n"
   ]
  },
  {
   "cell_type": "code",
   "execution_count": 465,
   "id": "e1734683",
   "metadata": {},
   "outputs": [
    {
     "name": "stdout",
     "output_type": "stream",
     "text": [
      "<class 'pandas.core.frame.DataFrame'>\n",
      "RangeIndex: 18408 entries, 0 to 18407\n",
      "Data columns (total 28 columns):\n",
      " #   Column                          Non-Null Count  Dtype  \n",
      "---  ------                          --------------  -----  \n",
      " 0   year                            18408 non-null  int64  \n",
      " 1   quarter                         18408 non-null  object \n",
      " 2   monthsigned                     18408 non-null  float64\n",
      " 3   market                          18408 non-null  object \n",
      " 4   region                          18408 non-null  object \n",
      " 5   city                            18408 non-null  object \n",
      " 6   state                           18408 non-null  object \n",
      " 7   internal_submarket              18408 non-null  object \n",
      " 8   internal_class                  18408 non-null  object \n",
      " 9   leasedSF                        18408 non-null  float64\n",
      " 10  internal_industry               18408 non-null  object \n",
      " 11  transaction_type                18408 non-null  object \n",
      " 12  space_type                      18408 non-null  object \n",
      " 13  CBD_suburban                    18408 non-null  object \n",
      " 14  RBA                             18408 non-null  float64\n",
      " 15  available_space                 18408 non-null  float64\n",
      " 16  availability_proportion         18408 non-null  float64\n",
      " 17  internal_class_rent             18408 non-null  float64\n",
      " 18  overall_rent                    18408 non-null  float64\n",
      " 19  direct_available_space          18408 non-null  float64\n",
      " 20  direct_availability_proportion  18408 non-null  float64\n",
      " 21  direct_internal_class_rent      18408 non-null  float64\n",
      " 22  direct_overall_rent             18408 non-null  float64\n",
      " 23  sublet_available_space          18408 non-null  float64\n",
      " 24  sublet_availability_proportion  18408 non-null  float64\n",
      " 25  sublet_internal_class_rent      18408 non-null  float64\n",
      " 26  sublet_overall_rent             18408 non-null  float64\n",
      " 27  leasing                         18408 non-null  float64\n",
      "dtypes: float64(16), int64(1), object(11)\n",
      "memory usage: 3.9+ MB\n",
      "None\n"
     ]
    }
   ],
   "source": [
    "main_2020 = pd.read_csv('main_2020_all.csv')\n",
    "print(main_2020.info())"
   ]
  },
  {
   "cell_type": "code",
   "execution_count": 466,
   "id": "2ace4b2e",
   "metadata": {},
   "outputs": [
    {
     "data": {
      "image/png": "[encoded data removed]",
      "text/plain": [
       "<Figure size 1000x600 with 1 Axes>"
      ]
     },
     "metadata": {},
     "output_type": "display_data"
    }
   ],
   "source": [
    "city_counts = main_2020.groupby('market').size().reset_index(name='record_count')\n",
    "\n",
    "# Define bins with an interval of 10. \n",
    "bins = np.arange(0, city_counts['record_count'].max() + 10, 5)\n",
    "\n",
    "# Create the histogram.\n",
    "plt.figure(figsize=(10, 6))\n",
    "plt.hist(city_counts['record_count'], bins=bins, edgecolor='black')\n",
    "plt.title('Histogram of Record Counts by market')\n",
    "plt.xlabel('Record Count')\n",
    "plt.ylabel('Number of markets')\n",
    "plt.xticks(bins)  # Optional: Set x-ticks to show bin edges\n",
    "plt.show()"
   ]
  },
  {
   "cell_type": "code",
   "execution_count": 467,
   "id": "8265c050",
   "metadata": {},
   "outputs": [
    {
     "name": "stderr",
     "output_type": "stream",
     "text": [
      "/tmp/ipykernel_1775/3549346842.py:1: FutureWarning: Downcasting behavior in `replace` is deprecated and will be removed in a future version. To retain the old behavior, explicitly call `result.infer_objects(copy=False)`. To opt-in to the future behavior, set `pd.set_option('future.no_silent_downcasting', True)`\n",
      "  main_2020['quarter_encoded'] = main_2020['quarter'].replace({\n"
     ]
    }
   ],
   "source": [
    "main_2020['quarter_encoded'] = main_2020['quarter'].replace({\n",
    "    'Q1': 1, 'Q2': 2, 'Q3': 3, 'Q4': 4\n",
    "})"
   ]
  },
  {
   "cell_type": "code",
   "execution_count": 468,
   "id": "97aafa63",
   "metadata": {},
   "outputs": [
    {
     "name": "stdout",
     "output_type": "stream",
     "text": [
      "Transformed feature matrix shape: (18408, 360)\n",
      "      market  market_value_score\n",
      "0    Atlanta          274.298056\n",
      "1     Austin          196.226415\n",
      "2  Baltimore          100.000000\n",
      "3     Boston          158.064516\n",
      "4  Charlotte          148.387097\n"
     ]
    }
   ],
   "source": [
    "features_for_clustering = [\n",
    "    \"quarter\", \"market\", \"internal_submarket\", \"internal_class\", \"leasedSF\", \"state\",\n",
    "    \"internal_industry\", \"transaction_type\", \"space_type\", \"CBD_suburban\", \"RBA\",\n",
    "    \"availability_proportion\", \"internal_class_rent\", \"overall_rent\",\n",
    "    \"direct_availability_proportion\", \"direct_overall_rent\", \"sublet_available_space\", \"leasing\"\n",
    "]\n",
    "\n",
    "# Identify which columns are categorical vs. numeric.\n",
    "# You might want to treat columns with values like \"Q1\", \"Atlanta\", etc. as categorical.\n",
    "categorical_columns = [\n",
    "    \"quarter\", \"market\", \"internal_submarket\", \"internal_class\", \"state\",\n",
    "    \"internal_industry\", \"transaction_type\", \"space_type\", \"CBD_suburban\"\n",
    "]\n",
    "numeric_columns = [\n",
    "    \"leasedSF\", \"RBA\", \"availability_proportion\", \"internal_class_rent\", \"overall_rent\",\n",
    "    \"direct_availability_proportion\", \"direct_overall_rent\", \"sublet_available_space\", \"leasing\"\n",
    "]\n",
    "\n",
    "# Drop rows with missing values in the selected features.\n",
    "clustering_df = main_2020.dropna(subset=features_for_clustering).copy()\n",
    "\n",
    "# Create a ColumnTransformer to encode categorical columns and scale numeric columns.\n",
    "preprocessor = ColumnTransformer(\n",
    "    transformers=[\n",
    "        (\"cat\", OneHotEncoder(handle_unknown=\"ignore\"), categorical_columns),\n",
    "        (\"num\", StandardScaler(), numeric_columns)\n",
    "    ]\n",
    ")\n",
    "\n",
    "# Apply the transformations to get the final numeric feature matrix for clustering.\n",
    "X_cluster = preprocessor.fit_transform(clustering_df[features_for_clustering])\n",
    "\n",
    "# X_cluster is now a numeric array that you can use with your clustering algorithm (e.g., KMeans).\n",
    "print(\"Transformed feature matrix shape:\", X_cluster.shape)\n",
    "n_clusters = 3\n",
    "kmeans = KMeans(n_clusters=n_clusters, random_state=42)\n",
    "clustering_df['cluster'] = kmeans.fit_predict(X_cluster)\n",
    "\n",
    "# -------------------------------\n",
    "# Merge the cluster labels back into the main_2020 DataFrame.\n",
    "# This assumes that the index in clustering_df aligns with main_2020.\n",
    "main_2020 = main_2020.merge(clustering_df[['cluster']], left_index=True, right_index=True, how='left')\n",
    "\n",
    "# -------------------------------\n",
    "# Group by 'market' to generate a market value score.\n",
    "\n",
    "# 1. Count how many records in each market fall into each cluster.\n",
    "market_cluster_counts = main_2020.groupby('market')['cluster'].value_counts().unstack(fill_value=0)\n",
    "\n",
    "# 2. Convert the counts to percentages for each market.\n",
    "market_cluster_pct = market_cluster_counts.div(market_cluster_counts.sum(axis=1), axis=0) * 100\n",
    "\n",
    "# 3. Define weights for clusters.\n",
    "# Here we assume a higher cluster number indicates a better market.\n",
    "cluster_weights = {0: 1, 1: 4, 2: 9}\n",
    "\n",
    "# 4. Define a function to compute the weighted market score.\n",
    "def compute_market_score(row, weights):\n",
    "    # Multiply the percentage for each cluster by its weight and sum the result.\n",
    "    return sum(row[cluster] * weights[cluster] for cluster in row.index)\n",
    "\n",
    "# 5. Apply the function to compute a score for each market.\n",
    "market_scores = market_cluster_pct.apply(lambda row: compute_market_score(row, cluster_weights), axis=1)\n",
    "market_scores = market_scores.reset_index(name='market_value_score')\n",
    "\n",
    "# -------------------------------\n",
    "# Export the market scores to CSV and display the result.\n",
    "market_scores.to_csv(\"market_value_score_by_market.csv\", index=False)\n",
    "print(market_scores.head())\n"
   ]
  },
  {
   "cell_type": "code",
   "execution_count": null,
   "id": "21c524b1",
   "metadata": {},
   "outputs": [],
   "source": []
  }
 ],
 "metadata": {
  "kernelspec": {
   "display_name": "Python 3 (ipykernel)",
   "language": "python",
   "name": "python3"
  },
  "language_info": {
   "codemirror_mode": {
    "name": "ipython",
    "version": 3
   },
   "file_extension": ".py",
   "mimetype": "text/x-python",
   "name": "python",
   "nbconvert_exporter": "python",
   "pygments_lexer": "ipython3",
   "version": "3.10.13"
  }
 },
 "nbformat": 4,
 "nbformat_minor": 5
}
