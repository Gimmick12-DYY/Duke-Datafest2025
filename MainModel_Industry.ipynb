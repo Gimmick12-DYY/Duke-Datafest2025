{
 "cells": [
  {
   "cell_type": "code",
   "execution_count": 2,
   "id": "461d0bf5",
   "metadata": {},
   "outputs": [],
   "source": [
    "import pandas as pd\n",
    "import numpy as np\n",
    "import sklearn\n",
    "from sklearn.model_selection import train_test_split, GridSearchCV\n",
    "from sklearn.ensemble import RandomForestRegressor\n",
    "from sklearn.metrics import mean_absolute_error, r2_score\n",
    "from sklearn.preprocessing import OneHotEncoder, StandardScaler\n",
    "from sklearn.compose import ColumnTransformer\n",
    "from sklearn.pipeline import Pipeline\n",
    "from sklearn.cluster import KMeans\n",
    "from sklearn.preprocessing import StandardScaler\n",
    "import seaborn as sns\n",
    "import matplotlib.pyplot as plt\n"
   ]
  },
  {
   "cell_type": "code",
   "execution_count": 3,
   "id": "e1734683",
   "metadata": {},
   "outputs": [
    {
     "name": "stdout",
     "output_type": "stream",
     "text": [
      "<class 'pandas.core.frame.DataFrame'>\n",
      "RangeIndex: 18408 entries, 0 to 18407\n",
      "Data columns (total 28 columns):\n",
      " #   Column                          Non-Null Count  Dtype  \n",
      "---  ------                          --------------  -----  \n",
      " 0   year                            18408 non-null  int64  \n",
      " 1   quarter                         18408 non-null  object \n",
      " 2   monthsigned                     18408 non-null  float64\n",
      " 3   market                          18408 non-null  object \n",
      " 4   region                          18408 non-null  object \n",
      " 5   city                            18408 non-null  object \n",
      " 6   state                           18408 non-null  object \n",
      " 7   internal_submarket              18408 non-null  object \n",
      " 8   internal_class                  18408 non-null  object \n",
      " 9   leasedSF                        18408 non-null  float64\n",
      " 10  internal_industry               18408 non-null  object \n",
      " 11  transaction_type                18408 non-null  object \n",
      " 12  space_type                      18408 non-null  object \n",
      " 13  CBD_suburban                    18408 non-null  object \n",
      " 14  RBA                             18408 non-null  float64\n",
      " 15  available_space                 18408 non-null  float64\n",
      " 16  availability_proportion         18408 non-null  float64\n",
      " 17  internal_class_rent             18408 non-null  float64\n",
      " 18  overall_rent                    18408 non-null  float64\n",
      " 19  direct_available_space          18408 non-null  float64\n",
      " 20  direct_availability_proportion  18408 non-null  float64\n",
      " 21  direct_internal_class_rent      18408 non-null  float64\n",
      " 22  direct_overall_rent             18408 non-null  float64\n",
      " 23  sublet_available_space          18408 non-null  float64\n",
      " 24  sublet_availability_proportion  18408 non-null  float64\n",
      " 25  sublet_internal_class_rent      18408 non-null  float64\n",
      " 26  sublet_overall_rent             18408 non-null  float64\n",
      " 27  leasing                         18408 non-null  float64\n",
      "dtypes: float64(16), int64(1), object(11)\n",
      "memory usage: 3.9+ MB\n",
      "None\n"
     ]
    }
   ],
   "source": [
    "main_2020 = pd.read_csv('main_2020_all.csv')\n",
    "print(main_2020.info())"
   ]
  },
  {
   "cell_type": "code",
   "execution_count": 4,
   "id": "8265c050",
   "metadata": {},
   "outputs": [
    {
     "name": "stderr",
     "output_type": "stream",
     "text": [
      "/tmp/ipykernel_3624/3549346842.py:1: FutureWarning: Downcasting behavior in `replace` is deprecated and will be removed in a future version. To retain the old behavior, explicitly call `result.infer_objects(copy=False)`. To opt-in to the future behavior, set `pd.set_option('future.no_silent_downcasting', True)`\n",
      "  main_2020['quarter_encoded'] = main_2020['quarter'].replace({\n"
     ]
    }
   ],
   "source": [
    "main_2020['quarter_encoded'] = main_2020['quarter'].replace({\n",
    "    'Q1': 1, 'Q2': 2, 'Q3': 3, 'Q4': 4\n",
    "})"
   ]
  },
  {
   "cell_type": "code",
   "execution_count": 5,
   "id": "2df38ffb",
   "metadata": {},
   "outputs": [
    {
     "name": "stdout",
     "output_type": "stream",
     "text": [
      "<class 'pandas.core.frame.DataFrame'>\n",
      "Index: 17512 entries, 0 to 18407\n",
      "Data columns (total 31 columns):\n",
      " #   Column                          Non-Null Count  Dtype  \n",
      "---  ------                          --------------  -----  \n",
      " 0   year                            17512 non-null  int64  \n",
      " 1   quarter                         17512 non-null  object \n",
      " 2   monthsigned                     17512 non-null  float64\n",
      " 3   market                          17512 non-null  object \n",
      " 4   region                          17512 non-null  object \n",
      " 5   city                            17512 non-null  object \n",
      " 6   state                           17512 non-null  object \n",
      " 7   internal_submarket              17512 non-null  object \n",
      " 8   internal_class                  17512 non-null  object \n",
      " 9   leasedSF                        17512 non-null  float64\n",
      " 10  internal_industry               17512 non-null  object \n",
      " 11  transaction_type                17512 non-null  object \n",
      " 12  space_type                      17512 non-null  object \n",
      " 13  CBD_suburban                    17512 non-null  object \n",
      " 14  RBA                             17512 non-null  float64\n",
      " 15  available_space                 17512 non-null  float64\n",
      " 16  availability_proportion         17512 non-null  float64\n",
      " 17  internal_class_rent             17512 non-null  float64\n",
      " 18  overall_rent                    17512 non-null  float64\n",
      " 19  direct_available_space          17512 non-null  float64\n",
      " 20  direct_availability_proportion  17512 non-null  float64\n",
      " 21  direct_internal_class_rent      17512 non-null  float64\n",
      " 22  direct_overall_rent             17512 non-null  float64\n",
      " 23  sublet_available_space          17512 non-null  float64\n",
      " 24  sublet_availability_proportion  17512 non-null  float64\n",
      " 25  sublet_internal_class_rent      17512 non-null  float64\n",
      " 26  sublet_overall_rent             17512 non-null  float64\n",
      " 27  leasing                         17512 non-null  float64\n",
      " 28  quarter_encoded                 17512 non-null  int64  \n",
      " 29  state_id                        17512 non-null  object \n",
      " 30  county                          17512 non-null  object \n",
      "dtypes: float64(16), int64(2), object(13)\n",
      "memory usage: 4.3+ MB\n"
     ]
    }
   ],
   "source": [
    "us_cities = pd.read_csv(\"uscities.csv\")\n",
    "\n",
    "main_2020_cy = main_2020\n",
    "main_2020_cy = main_2020.merge(\n",
    "    us_cities[['city', 'state_id', 'county_name']],   # pick the columns you need\n",
    "    left_on=['city', 'state'],                        # columns in main_2020\n",
    "    right_on=['city', 'state_id'],                    # columns in us_cities\n",
    "    how='left'\n",
    ")\n",
    "\n",
    "# Optionally, rename 'county_name' to just 'county'\n",
    "main_2020_cy.rename(columns={'county_name': 'county'}, inplace=True)\n",
    "\n",
    "# Check results\n",
    "# print(main_2020_cy[['city', 'state', 'county']].drop_duplicates().head(10))\n",
    "main_2020_cy = main_2020_cy[main_2020_cy['county'].isin(main_2020_cy['county'].value_counts()[lambda x: x >= 3].index)]\n",
    "main_2020_cy.info()\n"
   ]
  },
  {
   "cell_type": "code",
   "execution_count": 6,
   "id": "eb9d39e6",
   "metadata": {},
   "outputs": [],
   "source": [
    "# ----- Step 1: Define Rent Range Bins using \"direct_internal_class_rent\" -----\n",
    "# Adjust these bin edges as appropriate for your dataset.\n",
    "rent_bins = [0, 50, 100, 200, 1000]  \n",
    "rent_labels = ['Low', 'Medium', 'High', 'Very High']\n",
    "# Here we use \"direct_internal_class_rent\" to bin the data.\n",
    "main_2020_cy['rent_range'] = pd.cut(main_2020_cy['direct_internal_class_rent'], bins=rent_bins, labels=rent_labels, right=False)\n",
    "\n",
    "# ----- Step 2: Define the industries of interest -----\n",
    "industries = [\"Tech\", \"Financial\", \"Legal\"]\n",
    "\n",
    "# Dictionary to hold the score DataFrames for each combination.\n",
    "score_lists = {}\n",
    "\n",
    "# ----- Step 3: Loop Over Industries and Rent Ranges -----\n",
    "for industry in industries:\n",
    "    # Filter for the given industry (assuming \"internal_industry\" holds these values).\n",
    "    df_ind = main_2020_cy[main_2020_cy['internal_industry'] == industry].copy()\n",
    "    \n",
    "    for rent_range in rent_labels:\n",
    "        # Filter further by the rent range.\n",
    "        df_subset = df_ind[df_ind['rent_range'] == rent_range]\n",
    "        if df_subset.empty:\n",
    "            continue  # Skip if no data in this combination.\n",
    "        \n",
    "        # Compute county-level cluster counts.\n",
    "        county_cluster_counts = df_subset.groupby('county')['cluster'].value_counts().unstack(fill_value=0)\n",
    "        \n",
    "        # Convert counts to percentages.\n",
    "        county_cluster_pct = county_cluster_counts.div(county_cluster_counts.sum(axis=1), axis=0) * 100\n",
    "        \n",
    "        # ----- Step 4: Define Cluster Weights and Compute Scores -----\n",
    "        # Here, assume n_clusters=6 and clusters 0 to 5 are present.\n",
    "        cluster_weights = {0: 1, 1: 2, 2: 3, 3: 4, 4: 5, 5: 6}\n",
    "        \n",
    "        def compute_county_score(row, weights):\n",
    "            return sum(row[cluster] * weights.get(cluster, 0) for cluster in row.index)\n",
    "        \n",
    "        county_scores = county_cluster_pct.apply(lambda row: compute_county_score(row, cluster_weights), axis=1)\n",
    "        county_scores = county_scores.reset_index(name='county_value_score')\n",
    "        \n",
    "        # Optionally, sort the scores descending so higher scores appear first.\n",
    "        county_scores = county_scores.sort_values(by='county_value_score', ascending=False)\n",
    "        \n",
    "        # Save the score list for this industry and rent range.\n",
    "        score_lists[(industry, rent_range)] = county_scores\n",
    "        \n",
    "        # Print a header and preview of the results.\n",
    "        print(f\"\\nIndustry: {industry}, Rent Range: {rent_range}\")\n",
    "        print(county_scores.head())\n",
    "        \n",
    "        # (Optional) Export each to CSV:\n",
    "        filename = f\"county_scores_{industry}_{rent_range}.csv\"\n",
    "        county_scores.to_csv(filename, index=False)\n"
   ]
  },
  {
   "cell_type": "code",
   "execution_count": null,
   "id": "03c03f22",
   "metadata": {},
   "outputs": [],
   "source": []
  },
  {
   "cell_type": "code",
   "execution_count": null,
   "id": "d978c5a0",
   "metadata": {},
   "outputs": [],
   "source": []
  }
 ],
 "metadata": {
  "kernelspec": {
   "display_name": "Python 3 (ipykernel)",
   "language": "python",
   "name": "python3"
  },
  "language_info": {
   "codemirror_mode": {
    "name": "ipython",
    "version": 3
   },
   "file_extension": ".py",
   "mimetype": "text/x-python",
   "name": "python",
   "nbconvert_exporter": "python",
   "pygments_lexer": "ipython3",
   "version": "3.10.13"
  }
 },
 "nbformat": 4,
 "nbformat_minor": 5
}
